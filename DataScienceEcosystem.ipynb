{
 "cells": [
  {
   "cell_type": "markdown",
   "id": "a1ec7e7f-6dd5-4f3e-a89e-8145b7b1f227",
   "metadata": {},
   "source": [
    "# Data Science Tools and Ecosystem"
   ]
  },
  {
   "cell_type": "markdown",
   "id": "90afd27c-0c0e-451c-b69d-4f0e93d013ed",
   "metadata": {},
   "source": [
    "## Author\n",
    "Angel"
   ]
  },
  {
   "cell_type": "markdown",
   "id": "d26a80c7-594c-4d6c-af62-f66d424cbee1",
   "metadata": {},
   "source": [
    "In this notebook,  Data Science Tools and Ecosystem are summarized."
   ]
  },
  {
   "cell_type": "markdown",
   "id": "12ec74d2-6856-492b-be69-7081fde8de3a",
   "metadata": {},
   "source": [
    "***Objectives:***\n",
    "* List popular languages for Data Science\n",
    "* List commonly used libraries used by Data Scientists\n",
    "* Evaluating arithmetic expressions in Python"
   ]
  },
  {
   "cell_type": "markdown",
   "id": "745f16af-5d25-415d-8e21-6403d8d5a506",
   "metadata": {},
   "source": [
    "Some of the most popular languages that Data Scientists use are:\n",
    "1. Python\n",
    "2. R\n",
    "3. Julia"
   ]
  },
  {
   "cell_type": "markdown",
   "id": "3188ad28-1bdc-43c4-9b8b-61f46e9a2d75",
   "metadata": {},
   "source": [
    "Some of the commonly used libraries used by Data Scientists include:\n",
    "1. Numpy\n",
    "2. Pandas\n",
    "3. Matplotlib"
   ]
  },
  {
   "cell_type": "markdown",
   "id": "bfe4680a-2a9c-4909-9cfb-a369404a19f0",
   "metadata": {},
   "source": [
    "| Data Science Tools|\n",
    "|-------------------|\n",
    "| Apache Spark      |\n",
    "| Jupyter Notebooks | \n",
    "| RStudio           | \n"
   ]
  },
  {
   "cell_type": "markdown",
   "id": "8e0e80b1-72ff-4874-8b32-bea6c9e511b5",
   "metadata": {},
   "source": [
    "### Below are a few examples of evaluating arithmetic expressions in Python."
   ]
  },
  {
   "cell_type": "code",
   "execution_count": 22,
   "id": "daca36ab-b1ea-4628-88e0-088efb424abd",
   "metadata": {},
   "outputs": [
    {
     "data": {
      "text/plain": [
       "17"
      ]
     },
     "execution_count": 22,
     "metadata": {},
     "output_type": "execute_result"
    }
   ],
   "source": [
    "# This a simple arithmetic expression to mutiply then add integers\n",
    "(3*4)+5"
   ]
  },
  {
   "cell_type": "code",
   "execution_count": 24,
   "id": "571c9901-0e64-44fc-8d5a-c049d935b7f4",
   "metadata": {},
   "outputs": [
    {
     "data": {
      "text/plain": [
       "3.3333333333333335"
      ]
     },
     "execution_count": 24,
     "metadata": {},
     "output_type": "execute_result"
    }
   ],
   "source": [
    "# This will convert 200 minutes to hours by diving by 60\n",
    "200/60"
   ]
  },
  {
   "cell_type": "markdown",
   "id": "15b8284c-b539-471a-9d6c-11c670b79cd1",
   "metadata": {},
   "source": []
  }
 ],
 "metadata": {
  "kernelspec": {
   "display_name": "Python 3 (ipykernel)",
   "language": "python",
   "name": "python3"
  },
  "language_info": {
   "codemirror_mode": {
    "name": "ipython",
    "version": 3
   },
   "file_extension": ".py",
   "mimetype": "text/x-python",
   "name": "python",
   "nbconvert_exporter": "python",
   "pygments_lexer": "ipython3",
   "version": "3.12.7"
  }
 },
 "nbformat": 4,
 "nbformat_minor": 5
}
